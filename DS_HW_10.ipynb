{
  "nbformat": 4,
  "nbformat_minor": 0,
  "metadata": {
    "colab": {
      "provenance": [],
      "authorship_tag": "ABX9TyOoD6xDXfrfHQWngOEwTwDv",
      "include_colab_link": true
    },
    "kernelspec": {
      "name": "python3",
      "display_name": "Python 3"
    },
    "language_info": {
      "name": "python"
    }
  },
  "cells": [
    {
      "cell_type": "markdown",
      "metadata": {
        "id": "view-in-github",
        "colab_type": "text"
      },
      "source": [
        "<a href=\"https://colab.research.google.com/github/Nniikkoollaass/data-science-modul-10-HW/blob/main/DS_HW_10.ipynb\" target=\"_parent\"><img src=\"https://colab.research.google.com/assets/colab-badge.svg\" alt=\"Open In Colab\"/></a>"
      ]
    },
    {
      "cell_type": "code",
      "execution_count": 1,
      "metadata": {
        "colab": {
          "base_uri": "https://localhost:8080/"
        },
        "id": "owmtD3bIjaAZ",
        "outputId": "76706a1d-a20c-405c-d186-e6b328b607b6"
      },
      "outputs": [
        {
          "output_type": "stream",
          "name": "stdout",
          "text": [
            "Collecting scikit-surprise\n",
            "  Downloading scikit-surprise-1.1.3.tar.gz (771 kB)\n",
            "\u001b[?25l     \u001b[90m━━━━━━━━━━━━━━━━━━━━━━━━━━━━━━━━━━━━━━━━\u001b[0m \u001b[32m0.0/772.0 kB\u001b[0m \u001b[31m?\u001b[0m eta \u001b[36m-:--:--\u001b[0m\r\u001b[2K     \u001b[91m━━━━━━━━━━━\u001b[0m\u001b[91m╸\u001b[0m\u001b[90m━━━━━━━━━━━━━━━━━━━━━━━━━━━━\u001b[0m \u001b[32m225.3/772.0 kB\u001b[0m \u001b[31m6.5 MB/s\u001b[0m eta \u001b[36m0:00:01\u001b[0m\r\u001b[2K     \u001b[91m━━━━━━━━━━━━━━━━━━━━━━━━━━━━━━━━━━━━━━━\u001b[0m\u001b[91m╸\u001b[0m \u001b[32m768.0/772.0 kB\u001b[0m \u001b[31m11.5 MB/s\u001b[0m eta \u001b[36m0:00:01\u001b[0m\r\u001b[2K     \u001b[90m━━━━━━━━━━━━━━━━━━━━━━━━━━━━━━━━━━━━━━━━\u001b[0m \u001b[32m772.0/772.0 kB\u001b[0m \u001b[31m9.4 MB/s\u001b[0m eta \u001b[36m0:00:00\u001b[0m\n",
            "\u001b[?25h  Preparing metadata (setup.py) ... \u001b[?25l\u001b[?25hdone\n",
            "Requirement already satisfied: joblib>=1.0.0 in /usr/local/lib/python3.10/dist-packages (from scikit-surprise) (1.4.2)\n",
            "Requirement already satisfied: numpy>=1.17.3 in /usr/local/lib/python3.10/dist-packages (from scikit-surprise) (1.25.2)\n",
            "Requirement already satisfied: scipy>=1.3.2 in /usr/local/lib/python3.10/dist-packages (from scikit-surprise) (1.11.4)\n",
            "Building wheels for collected packages: scikit-surprise\n",
            "  Building wheel for scikit-surprise (setup.py) ... \u001b[?25l\u001b[?25hdone\n",
            "  Created wheel for scikit-surprise: filename=scikit_surprise-1.1.3-cp310-cp310-linux_x86_64.whl size=3162981 sha256=d38bc1878c84039340dcbbd6589458f878eff6fc0e1d72f9b33aa8b4d4953ea1\n",
            "  Stored in directory: /root/.cache/pip/wheels/a5/ca/a8/4e28def53797fdc4363ca4af740db15a9c2f1595ebc51fb445\n",
            "Successfully built scikit-surprise\n",
            "Installing collected packages: scikit-surprise\n",
            "Successfully installed scikit-surprise-1.1.3\n"
          ]
        }
      ],
      "source": [
        "pip install scikit-surprise"
      ]
    },
    {
      "cell_type": "markdown",
      "source": [
        "Завдання\n",
        "\n",
        "На цьому тижні ми вивчили як працюють рекомендаційні системи. Пропонуємо вам познайомитись з бібліотекою surprise, котра якраз є по суті додатком до знайомої нам бібліотеки scikit-learn для тренування моделей рекомендаційних систем.\n",
        "\n",
        "Візьміть датасет movielens і побудуйте модель матричної факторизації. У даній бібліотеці він має назву SVD. Підберіть найкращі параметри за допомогою крос-валідації, також поекспериментуйте з іншими алгоритмами розрахунків (SVD++, NMF) і оберіть той, який буде оптимальним.\n",
        "\n",
        "Підказки як саме побудувати дану модель ви знайдете в документації до даної бібліотеки."
      ],
      "metadata": {
        "id": "GhDJ_rDhFq5B"
      }
    },
    {
      "cell_type": "code",
      "source": [
        "from surprise import Reader, Dataset, SVD, NMF\n",
        "from surprise.model_selection import cross_validate"
      ],
      "metadata": {
        "id": "lceHrxTgFuVg"
      },
      "execution_count": 2,
      "outputs": []
    },
    {
      "cell_type": "code",
      "source": [
        "# Задаємо структуру даних\n",
        "reader = Reader(line_format='user item rating timestamp', sep=',', rating_scale=(0.5, 5), skip_lines=1)\n",
        "\n",
        "# Завантажуємо дані\n",
        "data = Dataset.load_from_file('ml-latest-small/ratings.csv', reader=reader)\n",
        "\n",
        "# Вибираємо алгоритми\n",
        "algorithms = {\n",
        "    'SVD': SVD(),\n",
        "    'NMF': NMF()\n",
        "}\n",
        "\n",
        "# Запускаємо крос-валідацію для кожного алгоритму\n",
        "for algo_name, algo in algorithms.items():\n",
        "    print(f'Running {algo_name}...')\n",
        "    results = cross_validate(algo, data, measures=['RMSE', 'MAE'], cv=5, verbose=True)\n",
        "    print(f'{algo_name} results:')\n",
        "    for metric, values in results.items():\n",
        "        print(f'{metric}:')\n",
        "        for value in values:\n",
        "            print(f'\\t{value:.3f}')"
      ],
      "metadata": {
        "colab": {
          "base_uri": "https://localhost:8080/"
        },
        "id": "DGFPilDUGGxd",
        "outputId": "7e235580-29a0-468b-f548-a83451459a83"
      },
      "execution_count": 6,
      "outputs": [
        {
          "output_type": "stream",
          "name": "stdout",
          "text": [
            "Running SVD...\n",
            "Evaluating RMSE, MAE of algorithm SVD on 5 split(s).\n",
            "\n",
            "                  Fold 1  Fold 2  Fold 3  Fold 4  Fold 5  Mean    Std     \n",
            "RMSE (testset)    0.8741  0.8676  0.8723  0.8722  0.8764  0.8725  0.0029  \n",
            "MAE (testset)     0.6715  0.6663  0.6694  0.6743  0.6709  0.6705  0.0026  \n",
            "Fit time          1.41    1.42    1.43    1.39    2.20    1.57    0.31    \n",
            "Test time         0.12    0.12    0.20    0.22    0.21    0.18    0.04    \n",
            "SVD results:\n",
            "test_rmse:\n",
            "\t0.874\n",
            "\t0.868\n",
            "\t0.872\n",
            "\t0.872\n",
            "\t0.876\n",
            "test_mae:\n",
            "\t0.672\n",
            "\t0.666\n",
            "\t0.669\n",
            "\t0.674\n",
            "\t0.671\n",
            "fit_time:\n",
            "\t1.406\n",
            "\t1.423\n",
            "\t1.428\n",
            "\t1.388\n",
            "\t2.196\n",
            "test_time:\n",
            "\t0.124\n",
            "\t0.123\n",
            "\t0.198\n",
            "\t0.222\n",
            "\t0.210\n",
            "Running NMF...\n",
            "Evaluating RMSE, MAE of algorithm NMF on 5 split(s).\n",
            "\n",
            "                  Fold 1  Fold 2  Fold 3  Fold 4  Fold 5  Mean    Std     \n",
            "RMSE (testset)    0.9228  0.9209  0.9152  0.9195  0.9271  0.9211  0.0039  \n",
            "MAE (testset)     0.7070  0.7040  0.7009  0.7044  0.7103  0.7053  0.0032  \n",
            "Fit time          2.48    2.46    2.44    3.19    2.53    2.62    0.29    \n",
            "Test time         0.11    0.21    0.11    0.18    0.20    0.16    0.05    \n",
            "NMF results:\n",
            "test_rmse:\n",
            "\t0.923\n",
            "\t0.921\n",
            "\t0.915\n",
            "\t0.920\n",
            "\t0.927\n",
            "test_mae:\n",
            "\t0.707\n",
            "\t0.704\n",
            "\t0.701\n",
            "\t0.704\n",
            "\t0.710\n",
            "fit_time:\n",
            "\t2.480\n",
            "\t2.459\n",
            "\t2.436\n",
            "\t3.194\n",
            "\t2.529\n",
            "test_time:\n",
            "\t0.109\n",
            "\t0.213\n",
            "\t0.108\n",
            "\t0.184\n",
            "\t0.199\n"
          ]
        }
      ]
    },
    {
      "cell_type": "markdown",
      "source": [
        "Зазвичай вибір між алгоритмами рекомендаційних систем здійснюється на основі показників якості, таких як RMSE (Root Mean Squared Error) та MAE (Mean Absolute Error), де менше значення вказує на кращу точність моделі.\n",
        "\n",
        "В результатах SVD має середнє значення RMSE приблизно 0.8725, а NMF має приблизно 0.9211. Таким чином, SVD виявляється кращим алгоритмом за RMSE.\n",
        "\n",
        "Також, якщо порівнювати MAE, SVD має середнє значення приблизно 0.6705, а NMF - приблизно 0.7053. Отже, і за MAE також SVD виявляється кращим.\n",
        "\n",
        "Отже, на основі обох метрик (RMSE та MAE) можна визначити, що алгоритм SVD демонструє кращі результати порівняно з NMF на цьому наборі даних. Тому, для цієї моделі рекомендаційної системи рекомендується використовувати SVD."
      ],
      "metadata": {
        "id": "vpBIGREIHIs2"
      }
    }
  ]
}